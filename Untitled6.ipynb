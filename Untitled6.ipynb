{
  "nbformat": 4,
  "nbformat_minor": 0,
  "metadata": {
    "colab": {
      "provenance": []
    },
    "kernelspec": {
      "name": "python3",
      "display_name": "Python 3"
    },
    "language_info": {
      "name": "python"
    }
  },
  "cells": [
    {
      "cell_type": "code",
      "execution_count": 1,
      "metadata": {
        "colab": {
          "base_uri": "https://localhost:8080/"
        },
        "id": "HVU7Xb7oiA9D",
        "outputId": "ab40f8d2-0574-442e-fed9-8f80b6c59cb0"
      },
      "outputs": [
        {
          "output_type": "stream",
          "name": "stdout",
          "text": [
            "144\n"
          ]
        }
      ],
      "source": [
        "\n",
        "a=16\n",
        "b=18\n",
        "c=max(a,b)\n",
        "while (c%b!=0 or c%a!=0):\n",
        " c+=1\n",
        "print(c)"
      ]
    },
    {
      "cell_type": "code",
      "source": [
        "a=30\n",
        "b=9\n",
        "c=min(a,b)\n",
        "while (b%c!=0 or a%c!=0):\n",
        "  c=c-1\n",
        "print(c)"
      ],
      "metadata": {
        "colab": {
          "base_uri": "https://localhost:8080/"
        },
        "id": "TzF7zbXSiDEL",
        "outputId": "8812fe67-7620-47e0-d73b-1266ae857b4d"
      },
      "execution_count": 3,
      "outputs": [
        {
          "output_type": "stream",
          "name": "stdout",
          "text": [
            "3\n"
          ]
        }
      ]
    },
    {
      "cell_type": "code",
      "source": [
        "def company(id1,name,email):\n",
        "  print(\"hey data is \",( id1),\"name\",(name),\"email\",(email))"
      ],
      "metadata": {
        "id": "DiT63zooiJwP"
      },
      "execution_count": 22,
      "outputs": []
    },
    {
      "cell_type": "code",
      "source": [
        "company(23, 34, \"rohit\")"
      ],
      "metadata": {
        "colab": {
          "base_uri": "https://localhost:8080/"
        },
        "id": "nBcwGHiMj7F4",
        "outputId": "3741d7c3-e682-4d20-d213-72961ff5e770"
      },
      "execution_count": 18,
      "outputs": [
        {
          "output_type": "stream",
          "name": "stdout",
          "text": [
            "hey data is  {23} name {34} email {'rohit'}\n"
          ]
        }
      ]
    },
    {
      "cell_type": "code",
      "source": [
        "def company(id1,name,email=\"rohit.gupta\"):\n",
        "  print(\"hey data is \",( id1),\"name\",(name),\"email\",(email))\n",
        "\n",
        "company(23, 34, \"rohit\")"
      ],
      "metadata": {
        "colab": {
          "base_uri": "https://localhost:8080/"
        },
        "id": "-RK72qQrkMTw",
        "outputId": "0e64843b-6efc-43d7-9bc7-a6d0a473fea8"
      },
      "execution_count": 23,
      "outputs": [
        {
          "output_type": "stream",
          "name": "stdout",
          "text": [
            "hey data is  23 name 34 email rohit\n"
          ]
        }
      ]
    },
    {
      "cell_type": "code",
      "source": [
        "#\n",
        "def info(*var):\n",
        "  print(var,type(var))\n",
        "\n",
        "\n",
        "info(2,23,42)"
      ],
      "metadata": {
        "colab": {
          "base_uri": "https://localhost:8080/"
        },
        "id": "Gh3HmdVvo3vz",
        "outputId": "a5e56618-dba1-48bf-ada0-82de3b744a39"
      },
      "execution_count": 31,
      "outputs": [
        {
          "output_type": "stream",
          "name": "stdout",
          "text": [
            "(2, 23, 42) <class 'tuple'>\n"
          ]
        }
      ]
    },
    {
      "cell_type": "code",
      "source": [
        " #keyword variable lenth argument\n",
        "\n",
        "def info(**kwargs):\n",
        "  print(kwargs,type(kwargs))\n",
        "\n",
        "\n",
        "info(age=2,salary=23,bio =\" hi \")"
      ],
      "metadata": {
        "colab": {
          "base_uri": "https://localhost:8080/"
        },
        "id": "0wFTaBHepaXc",
        "outputId": "2f55ff82-92ac-4746-f92e-52fd461948f8"
      },
      "execution_count": 38,
      "outputs": [
        {
          "output_type": "stream",
          "name": "stdout",
          "text": [
            "{'age': 2, 'salary': 23, 'bio': ' hi '} <class 'dict'>\n"
          ]
        }
      ]
    },
    {
      "cell_type": "code",
      "source": [
        "#args = variable argument\n",
        "# kawrgs = keyword variable argument\n",
        "# we can use both them in one function\n",
        "\n",
        "def greeting():\n",
        "  print(\"hello\")\n",
        "\n",
        "greeting()\n"
      ],
      "metadata": {
        "colab": {
          "base_uri": "https://localhost:8080/"
        },
        "id": "WQA8cT3QrSnj",
        "outputId": "9dfd9b06-d1d5-4f05-f91e-c8be18b8e8fd"
      },
      "execution_count": 41,
      "outputs": [
        {
          "output_type": "stream",
          "name": "stdout",
          "text": [
            "hello\n"
          ]
        }
      ]
    },
    {
      "cell_type": "code",
      "source": [
        "print(greeting)"
      ],
      "metadata": {
        "colab": {
          "base_uri": "https://localhost:8080/"
        },
        "id": "zv5DwL6fsQIk",
        "outputId": "cde9a2f5-cd43-4ddb-cb19-8122efcfe231"
      },
      "execution_count": 42,
      "outputs": [
        {
          "output_type": "stream",
          "name": "stdout",
          "text": [
            "<function greeting at 0x7f5ff6a53400>\n"
          ]
        }
      ]
    },
    {
      "cell_type": "code",
      "source": [
        "x= greeting\n",
        "x()\n",
        "print(greeting)\n",
        "\n",
        "# first class function jinko hum kisi variable mai pass kr ska"
      ],
      "metadata": {
        "colab": {
          "base_uri": "https://localhost:8080/"
        },
        "id": "T_pTernsuVo4",
        "outputId": "4a0fc581-1f2d-4199-e65b-8997a57a2543"
      },
      "execution_count": 45,
      "outputs": [
        {
          "output_type": "stream",
          "name": "stdout",
          "text": [
            "hello\n",
            "<function greeting at 0x7f5ff6a53400>\n"
          ]
        }
      ]
    },
    {
      "cell_type": "code",
      "source": [
        "print(x)"
      ],
      "metadata": {
        "colab": {
          "base_uri": "https://localhost:8080/"
        },
        "id": "P75PQq_4uowz",
        "outputId": "f2905f96-1cf9-45d9-c2a6-c0790cbd5c5a"
      },
      "execution_count": 44,
      "outputs": [
        {
          "output_type": "stream",
          "name": "stdout",
          "text": [
            "<function greeting at 0x7f5ff6a53400>\n"
          ]
        }
      ]
    },
    {
      "cell_type": "code",
      "source": [
        "# learn about high order function and first class order function"
      ],
      "metadata": {
        "id": "1l0aOOVruq34"
      },
      "execution_count": null,
      "outputs": []
    },
    {
      "cell_type": "code",
      "source": [],
      "metadata": {
        "colab": {
          "base_uri": "https://localhost:8080/",
          "height": 130
        },
        "id": "1Yz9UoJnvfbM",
        "outputId": "0be033cd-a501-4e94-9eaa-6336c1d0d30d"
      },
      "execution_count": 50,
      "outputs": [
        {
          "output_type": "error",
          "ename": "IndentationError",
          "evalue": "ignored",
          "traceback": [
            "\u001b[0;36m  File \u001b[0;32m\"<ipython-input-50-d2a38653a7b0>\"\u001b[0;36m, line \u001b[0;32m2\u001b[0m\n\u001b[0;31m    var[i]=rohit\u001b[0m\n\u001b[0m    ^\u001b[0m\n\u001b[0;31mIndentationError\u001b[0m\u001b[0;31m:\u001b[0m expected an indented block after 'for' statement on line 1\n"
          ]
        }
      ]
    },
    {
      "cell_type": "code",
      "source": [],
      "metadata": {
        "id": "EbNbOU39wi3E"
      },
      "execution_count": null,
      "outputs": []
    }
  ]
}